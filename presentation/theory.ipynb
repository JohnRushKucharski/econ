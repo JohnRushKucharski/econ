{
 "cells": [
  {
   "attachments": {},
   "cell_type": "markdown",
   "metadata": {
    "slideshow": {
     "slide_type": "slide"
    }
   },
   "source": [
    "# Thoughts on Economic Evalation of Water Resources Projects Under Climate Chanage\n",
    "June 2023"
   ]
  },
  {
   "attachments": {},
   "cell_type": "markdown",
   "metadata": {
    "slideshow": {
     "slide_type": "slide"
    }
   },
   "source": [
    "## Presentation Components\n",
    "1. Issues with typical discounted cash flow (DCF) appproaches (e.g. CBA, NPV, IRR, etc.).\n",
    "    - probabilities\n",
    "    - discount rates (also related to probabilities)\n",
    "2. Robust Plans (a few CRIDA training slides)\n",
    "3. Pathways (brainstorming with a white board examaple)"
   ]
  },
  {
   "attachments": {},
   "cell_type": "markdown",
   "metadata": {
    "slideshow": {
     "slide_type": "slide"
    }
   },
   "source": [
    "### <font color=blue>Baseline Plan</font> simple example *no climate change*\n",
    "\n",
    "Not all costs are climate adaptation costs. Suppose we have an existing dam that delivers irrigated water supply to the area of Cropland.\n",
    "\n",
    "Under the current climate, it increases agricultural profit by \\\\$4 in half of the years; and has no effect on profit the other half of the time. The expected benefit of the existing dam then is \\\\$2, since:\n",
    "\n",
    "$B_{wop}(x) = \\left\\{\n",
    "    \\begin{array}\\\\\n",
    "        4 & \\mbox{if } x \\leq 0.5\\\\\n",
    "        0 & \\mbox{otherwise}\n",
    "    \\end{array}\n",
    "\\right.$\n",
    "\n",
    "and,\n",
    "\n",
    "$E[B_{wop}(x)] = 0.5(4) + 0.5(0) = 2$ "
   ]
  },
  {
   "attachments": {},
   "cell_type": "markdown",
   "metadata": {
    "slideshow": {
     "slide_type": "subslide"
    }
   },
   "source": [
    "### <font color=blue>Baseline Plan</font> plan evaluation and selection *no climate change*\n",
    "\n",
    "Suppose a plan exists that would ensure 100% reliability of the waters supply, such that:\n",
    "\n",
    "$B_{wip}(x) = \\left\\{\n",
    "    \\begin{array}\\\\\n",
    "        4 & \\forall x \\in \\mathbb{R}[0, 1]\n",
    "    \\end{array}\n",
    "\\right.$\n",
    "\n",
    "and,\n",
    "\n",
    "$E[B_{wip}] = 1(4)$\n",
    "\n",
    "If this plan costs \\$1, and we temporarily ignore the timing of costs and benefits (and therefore ignore discounting for the moment), then net benefits of the plan are also \\\\$1... and are given by:\n",
    "\n",
    "$NB_{wip} = E[B_{wip}] - E[B_{wop}] - C_{wip} = 4 - 2 - 1 = 1$\n",
    "\n",
    "For the purpose of this case study, assume the typical *maximize net benefits* plan evaluation and selection criteria. Ignoring time and other possible considerations the plan is justified, since $NB_{wip} > 0$. \n",
    "\n",
    "... and the plan is the <font color=blue>**baseline plan**</font> if it maximizes net benefits ... which in practical terms usually means the \"size\" of the plan is optimized. The <font color=blue>**baseline level of investment**</font> and <font color=blue>**baseline level of performance**</font> are also defined by this plan."
   ]
  },
  {
   "attachments": {},
   "cell_type": "markdown",
   "metadata": {
    "slideshow": {
     "slide_type": "subslide"
    }
   },
   "source": [
    "\n",
    "### <font color=blue>Baseline Plan</font> some definitions\n",
    "\n",
    "Not all agencies, use the *maximize net benefits* plan evaluation and selection criteria. For instance, the Millenium Challenge Corporation selects plans that *maximize the internal rate of return*, in many developing countries ministries select the *lowest cost plan that meets a specified design criteria*. So, more generic definitions are provided:\n",
    "\n",
    "<font color=blue>**baseline plan**</font>: the plan that would be selected under the current (or other applicable baseline) climate conditions.\n",
    "\n",
    "<font color=blue>**baseline level of investment**</font>: the cost of the baseline plan.\n",
    "\n",
    "<font color=blue>**baseline level of performance**</font>:the performance of the baseline plan, under the baseline climate assumptions."
   ]
  },
  {
   "attachments": {},
   "cell_type": "markdown",
   "metadata": {
    "slideshow": {
     "slide_type": "slide"
    }
   },
   "source": [
    "### <font color=darkorange>Climate Adaptation</font> example with **known** climate states\n",
    "\n",
    "Now lets consider the *baseline plan* in a world with 2 potential future climate states, $S = {\\alpha, \\delta}$, one of which will occur in time $t$. In state $\\alpha$, the climate doesn't change (e.g. the baseline climate state persists). Annotating the baseline plan benefits and costs: $B_{o,S}$, we get the following expected benefits in time t, under states $\\alpha$ and $\\delta$:\n",
    "\n",
    "$B_{o,\\alpha}(x) = \\left\\{\n",
    "    \\begin{array}\\\\\n",
    "        4 & \\forall x \\in \\mathbb{R}[0, 1]\n",
    "    \\end{array}\n",
    "\\right.$\n",
    "\n",
    "and,\n",
    "\n",
    "$E[B_{o,\\alpha}(x)] = 1(4)$\n",
    "\n",
    "In state, $\\delta$ our irrigation project performance reverts to its pre-baseline state. Thus,\n",
    "\n",
    "$B_{o,\\delta}(x) = \\left\\{\n",
    "    \\begin{array}\\\\\n",
    "        4 & \\mbox{if } x \\leq 0.5\\\\\n",
    "        0 & \\mbox{otherwise}\n",
    "    \\end{array}\n",
    "\\right.$\n",
    "\n",
    "and,\n",
    "\n",
    "$E[B_{o,\\delta}(x)] = 0.5(4) + 0.5(0) = 2$ "
   ]
  },
  {
   "attachments": {},
   "cell_type": "markdown",
   "metadata": {
    "slideshow": {
     "slide_type": "subslide"
    }
   },
   "source": [
    "### <font color=darkorange>Climate Adaptation</font> expected values with *known climate states*\n",
    "\n",
    "If the know the probalities of each climate state, then we can compute the system's expected benefit directly. For instance, assume a GCM is created which tells us with certainty that:\n",
    "\n",
    "$S_t(y) = \\left\\{\n",
    "    \\begin{array}\\\\\n",
    "        \\alpha & \\mbox{if } y \\leq 0.75\\\\\n",
    "        \\delta & \\mbox{otherwise}\n",
    "    \\end{array}\n",
    "\\right.$\n",
    "\n",
    "In a world with one future period, $t$, the expected benefit baseline plan's benefits are: \n",
    "\n",
    "$E[B_{o,t}(x, y)] = 0.75E[B_{o,\\alpha}(x)] + (1 - 0.75)E[B_{o,\\delta}(x)] = 0.75(4) + 0.25(2) = 3.50$\n",
    "\n",
    "Since the baseline plan is justified under the baseline climate conditions, <font color=darkorange>*the baseline plan climate adaptation costs*</font> associated with this plan are zero, e.g.,\n",
    "\n",
    "$C_{o} = 0$\n",
    "\n",
    "Therefore, $E[B_{o,t}(x, y)] = E[NB_{o,t}(x,y)]$ when it is being evalauated as a climate adaptation plan."
   ]
  },
  {
   "attachments": {},
   "cell_type": "markdown",
   "metadata": {
    "slideshow": {
     "slide_type": "subslide"
    }
   },
   "source": [
    "### <font color=darkorange>Climate Adaptation</font> plan evaluation and selection with *known climate states*\n",
    "\n",
    "Now consider a climate adaptation plan $A$. This plan would, cost \\\\$1 (in addition to the baseline level of investment), and ensure 100% reliability of the water supply under either climate state, e.g., \n",
    "\n",
    "$E[B_{A,t,S}(x)] = \\left\\{\n",
    "    \\begin{array}\\\\\n",
    "        4 & \\forall x \\in \\mathbb{R}[0, 1]\n",
    "    \\end{array}\n",
    "\\right.$\n",
    "\n",
    "and,\n",
    "\n",
    "$C_{A} = 1$\n",
    "\n",
    "If we again momentarily ignore discounting of the future benefits, then comparing this climate adaptation plan to the \"no adaptation\" baseline plan, we get the following analysis:\n",
    "\n",
    "$NB_{A}(x,y) = (E[B_{A,t}(x)] - C_{A}) - (E[B_{o,t}] - C_{o}) = (4 - 1) - (3.5 - 0) = -0.50$\n",
    "\n",
    "In this case climate adatption plan $A$ is not economically justifiable. So, status quo, \"no adaptation\" baseline plan is selected. Given the *maximize net benefits* plan selection criteria. "
   ]
  },
  {
   "attachments": {},
   "cell_type": "markdown",
   "metadata": {
    "slideshow": {
     "slide_type": "slide"
    }
   },
   "source": [
    "### <font color=darkorange>Climate Adaptation</font> ***unknown** climate states\n",
    "\n",
    "There is no generally accepted approach for probabalistically assessing future climate states. \n",
    "\n",
    "This is because the universe of plausible states is uknown, and individual sceanrios cannot be assessed probabalistically. A few studies have attempted to group scenarios and attach probabilities to scenarios in these groups. IPCC Working Group 1: the scientific basis 13.5.2.3 lists a few of these studies. Scott Steinschneider also has a paper in this vein from around 2010. Patrick Ray and Andrew Schwartz used this in the original CA DWR decision scaling study. If we use these approaches then the \"plan evaluation with known climate states\" section of this presentation provides a bit of a road map, but this also just a normal NPV approach as it is applied to almost all analyses where deep uncertainty is not a concern.\n",
    "\n",
    "For the rest of this presentation I assume that we cannot apply quantitative probabilities to the climate states, $S$.\n",
    "\n",
    "*Note: to make things more tractable, without loss of generality, I'm ususally assuming we know the possible future climate states - but **not** their proabiliities of occurence.*\n"
   ]
  },
  {
   "attachments": {},
   "cell_type": "markdown",
   "metadata": {
    "slideshow": {
     "slide_type": "subslide"
    }
   },
   "source": [
    "### <font color=darkorange>Climate Adaptation</font> expected values with **unknown** climate state probabilities \n",
    "\n",
    "Let's again consider a simple example from above, namely: a two time period example with a current and one future time period, 2 potential future climate states $S = {\\alpha, \\delta}$, one of which occurs at time $t$. The baseline system performance responses under these climate states are given below,\n",
    "\n",
    "$B_{o,\\alpha}(x) = \\left\\{\n",
    "    \\begin{array}\\\\\n",
    "        4 & \\forall x \\in \\mathbb{R}[0, 1]\n",
    "    \\end{array}\n",
    "\\right.$\n",
    "\n",
    "and,\n",
    "\n",
    "$E[B_{o,\\alpha}(x)] = 1(4)$\n",
    "\n",
    "... under the $\\delta$ climate state,\n",
    "\n",
    "$B_{o,\\delta}(x) = \\left\\{\n",
    "    \\begin{array}\\\\\n",
    "        4 & \\mbox{if } x \\leq 0.5\\\\\n",
    "        0 & \\mbox{otherwise}\n",
    "    \\end{array}\n",
    "\\right.$\n",
    "\n",
    "$E[B_{o,\\delta}(x)] = 0.5(4) + 0.5(0) = 2$ \n",
    "\n",
    "Here, we do not presume to know the probabilities of the climate states occurance, e.g. the function $S_t(y)$ is not known."
   ]
  },
  {
   "attachments": {},
   "cell_type": "markdown",
   "metadata": {
    "slideshow": {
     "slide_type": "subslide"
    }
   },
   "source": [
    "## <font>Climate Adaptation</font> adaptation plans with **unknown** climate state proabilities\n",
    "\n",
    "The baseline plan ensure reliability under the $\\alpha$ scenario. For the moment lets assume it also maximizes net benefits under that scenario. In which case it is the selected adaptation plan - given the assumed $\\alpha$ climate state.\n",
    "\n",
    "Suppose two competing adaptation plans $A$, $B$ are propoosed to deal with the $\\delta$ climate state. Plan $A$ is the plan described in the \"plan evaluation under known climate states\" section, with the following characteristics under climate state $\\delta$,\n",
    "\n",
    "$E[B_{A,t,\\delta}(x)] = \\left\\{\n",
    "    \\begin{array}\\\\\n",
    "        4 & \\forall x \\in \\mathbb{R}[0, 1]\n",
    "    \\end{array}\n",
    "\\right.$\n",
    "\n",
    "$C_{A} = 1$\n",
    "\n",
    "therefore, $NB_{A,\\delta} = 4 - 1 = 3$\n",
    "\n",
    "... plan $B$ has the following characteristics:\n",
    "\n",
    "$E[B_{B,t,\\delta}(x)] = \\left\\{\n",
    "    \\begin{array}\\\\\n",
    "        8 & \\mbox{if } x \\leq 0.5\\\\\n",
    "        0 & \\mbox{otherwise}\n",
    "    \\end{array}\n",
    "\\right.$\n",
    "\n",
    "$C_{B} = 1$\n",
    "\n",
    "therefore, $NB_{B,\\delta} = ((0.5)8 + (0.50)0) - 1 = 4 - 1 = 3$"
   ]
  },
  {
   "attachments": {},
   "cell_type": "markdown",
   "metadata": {
    "slideshow": {
     "slide_type": "subslide"
    }
   },
   "source": [
    "## <font color=darkorange>Climate Adaptation</font> discounting with ***unknown** climate state probabilities\n",
    "\n",
    "To most observers, plan $A$ is preferable since it delivers a consistent, risk free return, but since, $NB_{A,\\delta}=NB_{B,\\delta}$ we are indifferent in our choice between these two plans - in the absense of any specific accounting for this *risk adversion*.\n",
    "\n",
    "Even if we discount, both plans at the *risk free rate*, $r_f$ to account for the time value of money (e.g. our preference for more immediate gratification), this effects each project equally $\\frac{NB_{A,\\delta}}{r_f} = \\frac{NB_{B,\\delta}}{r_f}$ and again we are indifferent in our choice between plans $A$, and $B$.\n",
    "\n",
    "In general, a higher rate of return is required, $E[NB]$ if we are to accept risk, $VAR(E[NB])$. The cost of a higher return (e.g. more reward/benefits) is risk. For this reason, in this case, \n",
    "\n",
    "$r_{A,\\delta} < r_{B, \\delta}$ \n",
    "\n",
    "Therefore, \n",
    "\n",
    "$\\frac{NB_{A,\\delta}}{r_A} > \\frac{NB_{B,\\delta}}{r_B}$ and plan $A$ is the best course of action under climate scenario $\\delta$."
   ]
  },
  {
   "attachments": {},
   "cell_type": "markdown",
   "metadata": {
    "slideshow": {
     "slide_type": "subslide"
    }
   },
   "source": [
    "# Extending the basic example to multiple climate states, project discount rate\n",
    "* wet project wet state, wet project dry state\n",
    "* if wet project wet state discount rate (low) it increases wet project dry state chances (discounts benefits too little)\n",
    "* if dry state discount rate (high) it decreases wet project wet state chances (discounts the benefits too much)\n",
    "* can I create a 2 state model that makes you make wrong decision?"
   ]
  },
  {
   "attachments": {},
   "cell_type": "markdown",
   "metadata": {
    "slideshow": {
     "slide_type": "subslide"
    }
   },
   "source": [
    "# Extending the basic example to multiple climate states, market discount rate\n",
    "* lower growth (lower real discount rate)\n",
    "* higher variance in returns (increase discount rate)\n",
    "unfortunately its not a predictable (systematic bias) - which means its difficult to correct."
   ]
  },
  {
   "attachments": {},
   "cell_type": "markdown",
   "metadata": {
    "slideshow": {
     "slide_type": "notes"
    }
   },
   "source": [
    "In this case, assuming the expected return from a risk free asset and the $E[NB_{A,\\delta}]$ are the same (*still thinking about this a bit, e.g. COV(A,r_f)=0, or r_A - r_f = 0*) then $r_{A,\\delta} = r_f$."
   ]
  },
  {
   "attachments": {},
   "cell_type": "markdown",
   "metadata": {
    "slideshow": {
     "slide_type": "slide"
    }
   },
   "source": [
    "## More on discount rates\n",
    "\n",
    "The Sharpe ratio, $\\varphi$ is one of the most common metrics of the risk-reward relationship,\n",
    "\n",
    "$\\varphi=\\frac{r_m - r_f}{\\sigma_m}$\n",
    "\n",
    "It describes how many additional units of return are required to compensate us for accepting an addition unit of risk. $r_m - r_f$ is called the excess return or *risk premium*, where $r_m$, $\\sigma_m$ is the market return and market standard deviation (entire market), respectively. Importantly, $\\sigma_m$ describes **systematic** risk (e.g., undiversifiable risk), in other words the general level of risk throughout the economy.\n",
    "\n",
    "The sharpe ratio can be rearranged to think about how the discount rate is affected by risk,\n",
    "\n",
    "$r = \\varphi \\times \\sigma \\times \\theta + r_f$\n",
    "\n",
    "where $r$ is the project discount rate, $\\sigma$ is the project risk (standard deviation of the return), and $\\theta$ is the portion of the project return risk that is systematic (e.g. remains after diversification). This would be related to the Capital Asset Pricing Model (CAPM), $\\beta=\\frac{COV(r, r_m - r_f)}{VAR(r_m - r_f)}$. Alternatively, we might think about what the Sharpe ratio can tells about our project's suceptability ot shifts in the interest rate implied by CAPM,\n",
    "\n",
    "$r = r_f + \\beta(r_m - r_f)$\n",
    "\n",
    "This last part requires more thought on my part."
   ]
  },
  {
   "attachments": {},
   "cell_type": "markdown",
   "metadata": {
    "slideshow": {
     "slide_type": "subslide"
    }
   },
   "source": [
    "## Some final thoughts on discount rates\n",
    "\n"
   ]
  },
  {
   "attachments": {},
   "cell_type": "markdown",
   "metadata": {},
   "source": [
    "## Incremental analysis\n",
    "* robust plans and flexible plans are mostly the same, flexible (pathways ends with a robust plan built in phases, more discounting on cost side which is good with more uncertainty - should be bigger discount rate - though we don't evaluate that so much)\n",
    "* in pathways we care about the next action (we could group everything with same next step?) or choose pathway under high, med, low scenario - choose incremetal level of robustness. \n",
    "* need to think more baout mutliple options after action - could we choose high robustness next action but have only low scenarios options left after that?"
   ]
  }
 ],
 "metadata": {
  "kernelspec": {
   "display_name": "Python 3",
   "language": "python",
   "name": "python3"
  },
  "language_info": {
   "codemirror_mode": {
    "name": "ipython",
    "version": 3
   },
   "file_extension": ".py",
   "mimetype": "text/x-python",
   "name": "python",
   "nbconvert_exporter": "python",
   "pygments_lexer": "ipython3",
   "version": "3.11.0"
  },
  "orig_nbformat": 4
 },
 "nbformat": 4,
 "nbformat_minor": 2
}
